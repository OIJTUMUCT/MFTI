{
  "cells": [
    {
      "cell_type": "markdown",
      "metadata": {
        "id": "view-in-github",
        "colab_type": "text"
      },
      "source": [
        "<a href=\"https://colab.research.google.com/github/OIJTUMUCT/MFTI/blob/main/Lebedev_IA_DL_CAPTCHA.ipynb\" target=\"_parent\"><img src=\"https://colab.research.google.com/assets/colab-badge.svg\" alt=\"Open In Colab\"/></a>"
      ]
    },
    {
      "cell_type": "code",
      "execution_count": null,
      "id": "7876be3a",
      "metadata": {
        "id": "7876be3a"
      },
      "outputs": [],
      "source": [
        "import numpy as np\n",
        "import pandas as pd\n",
        "from sklearn.model_selection import train_test_split\n",
        "from tensorflow.keras.utils import to_categorical\n",
        "from tensorflow.keras.preprocessing.image import ImageDataGenerator\n",
        "from tensorflow.keras import layers, models"
      ]
    },
    {
      "cell_type": "code",
      "execution_count": null,
      "id": "1a006360",
      "metadata": {
        "id": "1a006360"
      },
      "outputs": [],
      "source": [
        "# загрузка\n",
        "images = np.load('data/images.npy')\n",
        "labels = np.load('data/labels.npy')\n",
        "images_sub = np.load('data/images_sub.npy')"
      ]
    },
    {
      "cell_type": "code",
      "execution_count": null,
      "id": "ce5894ea",
      "metadata": {
        "id": "ce5894ea"
      },
      "outputs": [],
      "source": [
        "# нормализация\n",
        "images = images.astype('float32') / 255.0\n",
        "images_sub = images_sub.astype('float32') / 255.0"
      ]
    },
    {
      "cell_type": "code",
      "execution_count": null,
      "id": "703e43d0",
      "metadata": {
        "id": "703e43d0"
      },
      "outputs": [],
      "source": [
        "labels_cat = to_categorical(labels, num_classes=26)\n",
        "X_train, X_val, y_train, y_val = train_test_split(images, labels_cat, test_size=0.1, random_state=42)"
      ]
    },
    {
      "cell_type": "code",
      "execution_count": null,
      "id": "f3ba910c",
      "metadata": {
        "id": "f3ba910c"
      },
      "outputs": [],
      "source": [
        "# аугментация\n",
        "train_gen = ImageDataGenerator(\n",
        "    rotation_range=15,\n",
        "    width_shift_range=0.1,\n",
        "    height_shift_range=0.1,\n",
        "    shear_range=0.1,\n",
        "    zoom_range=0.1,\n",
        "    horizontal_flip=False\n",
        ").flow(X_train, y_train, batch_size=64)"
      ]
    },
    {
      "cell_type": "code",
      "execution_count": null,
      "id": "4b57a5d2",
      "metadata": {
        "id": "4b57a5d2",
        "outputId": "b146da8e-3460-41c4-9e57-59693ccfe395"
      },
      "outputs": [
        {
          "name": "stderr",
          "output_type": "stream",
          "text": [
            "/opt/homebrew/Caskroom/miniconda/base/envs/tf-mac/lib/python3.11/site-packages/keras/src/layers/convolutional/base_conv.py:107: UserWarning: Do not pass an `input_shape`/`input_dim` argument to a layer. When using Sequential models, prefer using an `Input(shape)` object as the first layer in the model instead.\n",
            "  super().__init__(activity_regularizer=activity_regularizer, **kwargs)\n",
            "2025-05-23 20:17:12.871253: I metal_plugin/src/device/metal_device.cc:1154] Metal device set to: Apple M4 Max\n",
            "2025-05-23 20:17:12.871289: I metal_plugin/src/device/metal_device.cc:296] systemMemory: 48.00 GB\n",
            "2025-05-23 20:17:12.871294: I metal_plugin/src/device/metal_device.cc:313] maxCacheSize: 18.00 GB\n",
            "2025-05-23 20:17:12.871315: I tensorflow/core/common_runtime/pluggable_device/pluggable_device_factory.cc:305] Could not identify NUMA node of platform GPU ID 0, defaulting to 0. Your kernel may not have been built with NUMA support.\n",
            "2025-05-23 20:17:12.871326: I tensorflow/core/common_runtime/pluggable_device/pluggable_device_factory.cc:271] Created TensorFlow device (/job:localhost/replica:0/task:0/device:GPU:0 with 0 MB memory) -> physical PluggableDevice (device: 0, name: METAL, pci bus id: <undefined>)\n"
          ]
        }
      ],
      "source": [
        "model = models.Sequential([\n",
        "    # 1-ый C-B-C-B-P-D\n",
        "    layers.Conv2D(32, (3, 3), activation='relu', padding='same', input_shape=(48, 48, 3)),\n",
        "    layers.BatchNormalization(),\n",
        "    layers.Conv2D(32, (3, 3), activation='relu', padding='same'),\n",
        "    layers.BatchNormalization(),\n",
        "    layers.MaxPooling2D((2, 2)),\n",
        "    layers.Dropout(0.25),\n",
        "\n",
        "    # 2-ой C-B-C-B-P-D\n",
        "    layers.Conv2D(64, (3, 3), activation='relu', padding='same'),\n",
        "    layers.BatchNormalization(),\n",
        "    layers.Conv2D(64, (3, 3), activation='relu', padding='same'),\n",
        "    layers.BatchNormalization(),\n",
        "    layers.MaxPooling2D((2, 2)),\n",
        "    layers.Dropout(0.3),\n",
        "\n",
        "    # 3-ий C-B-C-B-P-D\n",
        "    layers.Conv2D(128, (3, 3), activation='relu', padding='same'),\n",
        "    layers.BatchNormalization(),\n",
        "    layers.Conv2D(128, (3, 3), activation='relu', padding='same'),\n",
        "    layers.BatchNormalization(),\n",
        "    layers.MaxPooling2D((2, 2)),\n",
        "    layers.Dropout(0.35),\n",
        "\n",
        "    # C-B-C-B-G\n",
        "    layers.Conv2D(256, (3, 3), activation='relu', padding='same'),\n",
        "    layers.BatchNormalization(),\n",
        "    layers.Conv2D(256, (3, 3), activation='relu', padding='same'),\n",
        "    layers.BatchNormalization(),\n",
        "    layers.GlobalAveragePooling2D(),\n",
        "\n",
        "    # Dense-Drop-Dense\n",
        "    layers.Dense(256, activation='relu'),\n",
        "    layers.Dropout(0.5),\n",
        "    layers.Dense(26, activation='softmax')\n",
        "])"
      ]
    },
    {
      "cell_type": "code",
      "execution_count": null,
      "id": "19b282ae",
      "metadata": {
        "id": "19b282ae"
      },
      "outputs": [],
      "source": [
        "import tensorflow as tf\n",
        "\n",
        "class EarlyStoppingByAccuracy(tf.keras.callbacks.Callback): # ранняя остановка обучения по accuracy\n",
        "    def __init__(self, target=0.985):\n",
        "        super().__init__()\n",
        "        self.target = target\n",
        "\n",
        "    def on_epoch_end(self, epoch, logs=None):\n",
        "        logs = logs or {}\n",
        "        val_acc = logs.get('val_accuracy')\n",
        "        if val_acc is not None and val_acc >= self.target:\n",
        "            print(f\"\\nДостигнута целевая точность {val_acc:.4f} ≥ {self.target:.4f}, обучение остановлено.\")\n",
        "            self.model.stop_training = True"
      ]
    },
    {
      "cell_type": "code",
      "execution_count": null,
      "id": "5650e488",
      "metadata": {
        "id": "5650e488"
      },
      "outputs": [],
      "source": [
        "import plotly.graph_objects as go\n",
        "from tensorflow.keras.callbacks import Callback\n",
        "from IPython.display import display, clear_output\n",
        "\n",
        "class LiveAccuracyPlot(Callback): # построение графика в процессе обучения (обновление каждую эпоху)\n",
        "    def __init__(self):\n",
        "        super().__init__()\n",
        "        self.train_acc = []\n",
        "        self.val_acc = []\n",
        "        self.epochs = []\n",
        "\n",
        "    def on_epoch_end(self, epoch, logs=None):\n",
        "        logs = logs or {}\n",
        "        self.epochs.append(epoch)\n",
        "        self.train_acc.append(logs.get('accuracy', 0))\n",
        "        self.val_acc.append(logs.get('val_accuracy', 0))\n",
        "\n",
        "        # отрисовка интерактивного графика\n",
        "        fig = go.Figure()\n",
        "        fig.add_trace(go.Scatter(x=self.epochs, y=self.train_acc,\n",
        "                                 mode='lines+markers', name='Train Accuracy'))\n",
        "        fig.add_trace(go.Scatter(x=self.epochs, y=self.val_acc,\n",
        "                                 mode='lines+markers', name='Validation Accuracy'))\n",
        "\n",
        "        fig.update_layout(\n",
        "            title='Accuracy Over Epochs',\n",
        "            xaxis_title='Epoch',\n",
        "            yaxis_title='Accuracy',\n",
        "            xaxis=dict(rangeslider=dict(visible=True)),\n",
        "            yaxis=dict(range=[0, 1]),\n",
        "            height=400,\n",
        "            margin=dict(l=40, r=40, t=40, b=40)\n",
        "        )\n",
        "\n",
        "        clear_output(wait=True)\n",
        "        display(fig)"
      ]
    },
    {
      "cell_type": "code",
      "execution_count": null,
      "id": "6ab720a3",
      "metadata": {
        "id": "6ab720a3"
      },
      "outputs": [],
      "source": [
        "model.compile(\n",
        "    optimizer='AdamW',\n",
        "    loss=tf.keras.losses.CategoricalCrossentropy(label_smoothing=0.1),\n",
        "    metrics=['accuracy']\n",
        ") # компилирование"
      ]
    },
    {
      "cell_type": "code",
      "execution_count": null,
      "id": "24832143",
      "metadata": {
        "id": "24832143",
        "outputId": "93ddb33b-a269-43c0-951e-3ef79f87eaef"
      },
      "outputs": [
        {
          "data": {
            "application/vnd.plotly.v1+json": {
              "config": {
                "plotlyServerURL": "https://plot.ly"
              },
              "data": [
                {
                  "mode": "lines+markers",
                  "name": "Train Accuracy",
                  "type": "scatter",
                  "x": [
                    0,
                    1,
                    2,
                    3,
                    4,
                    5,
                    6,
                    7,
                    8,
                    9,
                    10,
                    11,
                    12,
                    13,
                    14,
                    15,
                    16,
                    17,
                    18,
                    19,
                    20,
                    21,
                    22,
                    23,
                    24,
                    25,
                    26,
                    27,
                    28,
                    29,
                    30,
                    31,
                    32,
                    33,
                    34,
                    35,
                    36,
                    37,
                    38,
                    39,
                    40,
                    41,
                    42,
                    43,
                    44,
                    45,
                    46,
                    47,
                    48,
                    49,
                    50,
                    51,
                    52,
                    53,
                    54,
                    55,
                    56,
                    57,
                    58,
                    59,
                    60,
                    61,
                    62,
                    63,
                    64,
                    65,
                    66,
                    67,
                    68,
                    69,
                    70,
                    71,
                    72,
                    73,
                    74,
                    75,
                    76,
                    77,
                    78,
                    79,
                    80,
                    81,
                    82,
                    83,
                    84,
                    85,
                    86,
                    87,
                    88,
                    89,
                    90,
                    91,
                    92,
                    93,
                    94,
                    95,
                    96,
                    97,
                    98,
                    99,
                    100,
                    101,
                    102,
                    103,
                    104,
                    105,
                    106,
                    107,
                    108,
                    109,
                    110,
                    111,
                    112,
                    113,
                    114,
                    115,
                    116,
                    117,
                    118,
                    119,
                    120,
                    121,
                    122,
                    123,
                    124,
                    125,
                    126,
                    127,
                    128,
                    129,
                    130,
                    131,
                    132,
                    133,
                    134,
                    135,
                    136,
                    137,
                    138,
                    139,
                    140,
                    141,
                    142,
                    143,
                    144,
                    145,
                    146,
                    147,
                    148,
                    149,
                    150,
                    151,
                    152,
                    153,
                    154,
                    155,
                    156,
                    157,
                    158,
                    159,
                    160,
                    161,
                    162,
                    163,
                    164,
                    165,
                    166,
                    167,
                    168,
                    169,
                    170,
                    171,
                    172,
                    173,
                    174,
                    175,
                    176,
                    177,
                    178,
                    179,
                    180,
                    181,
                    182,
                    183,
                    184,
                    185,
                    186,
                    187,
                    188,
                    189,
                    190,
                    191,
                    192,
                    193,
                    194,
                    195,
                    196,
                    197,
                    198,
                    199
                  ],
                  "y": [
                    0.06762935221195221,
                    0.109375,
                    0.25841882824897766,
                    0.4375,
                    0.5634478330612183,
                    0.65625,
                    0.7301516532897949,
                    0.65625,
                    0.7966101765632629,
                    0.8125,
                    0.8346900343894958,
                    0.78125,
                    0.8600022196769714,
                    0.859375,
                    0.8714874982833862,
                    0.828125,
                    0.8828055262565613,
                    0.921875,
                    0.889774739742279,
                    0.9375,
                    0.8973572850227356,
                    0.890625,
                    0.9068354368209839,
                    0.890625,
                    0.9094001054763794,
                    0.953125,
                    0.9139719009399414,
                    0.9375,
                    0.9177073836326599,
                    0.875,
                    0.9185436964035034,
                    0.9375,
                    0.9222792387008667,
                    0.953125,
                    0.9262934923171997,
                    0.9375,
                    0.928412139415741,
                    0.90625,
                    0.930084764957428,
                    0.96875,
                    0.9327051639556885,
                    0.921875,
                    0.934154748916626,
                    0.9375,
                    0.934712290763855,
                    0.953125,
                    0.9353256225585938,
                    0.90625,
                    0.9351583123207092,
                    0.9375,
                    0.9371654987335205,
                    0.921875,
                    0.9385035634040833,
                    1,
                    0.9396743774414062,
                    0.9375,
                    0.9407894611358643,
                    0.953125,
                    0.9345450401306152,
                    0.90625,
                    0.9393956065177917,
                    0.90625,
                    0.9376672506332397,
                    0.921875,
                    0.936886727809906,
                    0.96875,
                    0.9371654987335205,
                    0.9375,
                    0.9463090896606445,
                    0.921875,
                    0.9446922540664673,
                    0.953125,
                    0.9406222105026245,
                    0.953125,
                    0.9396186470985413,
                    0.96875,
                    0.939228355884552,
                    0.9375,
                    0.9349910616874695,
                    1,
                    0.9424063563346863,
                    0.921875,
                    0.9428523778915405,
                    0.96875,
                    0.9441904425621033,
                    0.984375,
                    0.9422948360443115,
                    0.984375,
                    0.9445250034332275,
                    0.953125,
                    0.9429081082344055,
                    0.984375,
                    0.9418488144874573,
                    0.96875,
                    0.9479817152023315,
                    0.921875,
                    0.942071795463562,
                    0.953125,
                    0.9491525292396545,
                    0.984375,
                    0.943800151348114,
                    0.96875,
                    0.940900981426239,
                    0.890625,
                    0.9395071268081665,
                    0.9375,
                    0.9390611052513123,
                    0.921875,
                    0.9474799036979675,
                    0.9375,
                    0.9560660123825073,
                    0.953125,
                    0.9439674615859985,
                    0.921875,
                    0.9401761889457703,
                    0.921875,
                    0.9433541297912598,
                    0.984375,
                    0.940845251083374,
                    0.875,
                    0.9452497959136963,
                    1,
                    0.9376115202903748,
                    0.984375,
                    0.9400089383125305,
                    0.90625,
                    0.9479817152023315,
                    0.921875,
                    0.9535013437271118,
                    0.9375,
                    0.9415700435638428,
                    0.96875,
                    0.9400089383125305,
                    0.96875,
                    0.943131148815155,
                    0.90625,
                    0.9495985507965088,
                    0.9375,
                    0.939785897731781,
                    0.984375,
                    0.9458073377609253,
                    0.984375,
                    0.9467551112174988,
                    0.9375,
                    0.9499331116676331,
                    0.96875,
                    0.9470338821411133,
                    0.953125,
                    0.9469781517982483,
                    0.9375,
                    0.9342105388641357,
                    0.9375,
                    0.9422948360443115,
                    0.9375,
                    0.9469223618507385,
                    0.96875,
                    0.9520517587661743,
                    0.90625,
                    0.9536685943603516,
                    0.90625,
                    0.9441347122192383,
                    0.9375,
                    0.9447479844093323,
                    0.953125,
                    0.942071795463562,
                    0.9375,
                    0.9424620866775513,
                    0.96875,
                    0.9444134831428528,
                    0.96875,
                    0.945417046546936,
                    0.9375,
                    0.9543376564979553,
                    0.953125,
                    0.9382247924804688,
                    0.921875,
                    0.927910327911377,
                    0.96875,
                    0.9372769594192505,
                    0.984375,
                    0.9548394083976746,
                    0.953125,
                    0.9633139967918396,
                    1,
                    0.9623661637306213,
                    0.984375,
                    0.9328166842460632,
                    0.953125,
                    0.9317016005516052,
                    0.921875,
                    0.9350468516349792,
                    0.921875,
                    0.9461418390274048,
                    0.9375,
                    0.9502676129341125,
                    0.984375,
                    0.9596342444419861,
                    0.96875,
                    0.9463090896606445,
                    0.890625
                  ]
                },
                {
                  "mode": "lines+markers",
                  "name": "Validation Accuracy",
                  "type": "scatter",
                  "x": [
                    0,
                    1,
                    2,
                    3,
                    4,
                    5,
                    6,
                    7,
                    8,
                    9,
                    10,
                    11,
                    12,
                    13,
                    14,
                    15,
                    16,
                    17,
                    18,
                    19,
                    20,
                    21,
                    22,
                    23,
                    24,
                    25,
                    26,
                    27,
                    28,
                    29,
                    30,
                    31,
                    32,
                    33,
                    34,
                    35,
                    36,
                    37,
                    38,
                    39,
                    40,
                    41,
                    42,
                    43,
                    44,
                    45,
                    46,
                    47,
                    48,
                    49,
                    50,
                    51,
                    52,
                    53,
                    54,
                    55,
                    56,
                    57,
                    58,
                    59,
                    60,
                    61,
                    62,
                    63,
                    64,
                    65,
                    66,
                    67,
                    68,
                    69,
                    70,
                    71,
                    72,
                    73,
                    74,
                    75,
                    76,
                    77,
                    78,
                    79,
                    80,
                    81,
                    82,
                    83,
                    84,
                    85,
                    86,
                    87,
                    88,
                    89,
                    90,
                    91,
                    92,
                    93,
                    94,
                    95,
                    96,
                    97,
                    98,
                    99,
                    100,
                    101,
                    102,
                    103,
                    104,
                    105,
                    106,
                    107,
                    108,
                    109,
                    110,
                    111,
                    112,
                    113,
                    114,
                    115,
                    116,
                    117,
                    118,
                    119,
                    120,
                    121,
                    122,
                    123,
                    124,
                    125,
                    126,
                    127,
                    128,
                    129,
                    130,
                    131,
                    132,
                    133,
                    134,
                    135,
                    136,
                    137,
                    138,
                    139,
                    140,
                    141,
                    142,
                    143,
                    144,
                    145,
                    146,
                    147,
                    148,
                    149,
                    150,
                    151,
                    152,
                    153,
                    154,
                    155,
                    156,
                    157,
                    158,
                    159,
                    160,
                    161,
                    162,
                    163,
                    164,
                    165,
                    166,
                    167,
                    168,
                    169,
                    170,
                    171,
                    172,
                    173,
                    174,
                    175,
                    176,
                    177,
                    178,
                    179,
                    180,
                    181,
                    182,
                    183,
                    184,
                    185,
                    186,
                    187,
                    188,
                    189,
                    190,
                    191,
                    192,
                    193,
                    194,
                    195,
                    196,
                    197,
                    198,
                    199
                  ],
                  "y": [
                    0.1014999970793724,
                    0.09849999845027924,
                    0.5034999847412109,
                    0.4945000112056732,
                    0.7250000238418579,
                    0.7214999794960022,
                    0.8514999747276306,
                    0.8525000214576721,
                    0.8575000166893005,
                    0.8619999885559082,
                    0.9035000205039978,
                    0.9035000205039978,
                    0.9079999923706055,
                    0.9075000286102295,
                    0.9194999933242798,
                    0.9169999957084656,
                    0.9265000224113464,
                    0.9240000247955322,
                    0.9244999885559082,
                    0.9244999885559082,
                    0.9160000085830688,
                    0.9154999852180481,
                    0.9375,
                    0.9375,
                    0.9480000138282776,
                    0.9474999904632568,
                    0.9445000290870667,
                    0.9449999928474426,
                    0.9409999847412109,
                    0.9430000185966492,
                    0.9409999847412109,
                    0.9399999976158142,
                    0.9474999904632568,
                    0.9474999904632568,
                    0.9505000114440918,
                    0.949999988079071,
                    0.953000009059906,
                    0.9520000219345093,
                    0.9480000138282776,
                    0.9449999928474426,
                    0.9375,
                    0.9355000257492065,
                    0.9484999775886536,
                    0.9474999904632568,
                    0.953000009059906,
                    0.9509999752044678,
                    0.925000011920929,
                    0.9259999990463257,
                    0.9419999718666077,
                    0.9424999952316284,
                    0.9505000114440918,
                    0.9509999752044678,
                    0.9570000171661377,
                    0.9580000042915344,
                    0.9545000195503235,
                    0.953499972820282,
                    0.9589999914169312,
                    0.9589999914169312,
                    0.9490000009536743,
                    0.949999988079071,
                    0.9445000290870667,
                    0.9465000033378601,
                    0.9549999833106995,
                    0.9539999961853027,
                    0.9545000195503235,
                    0.9539999961853027,
                    0.9610000252723694,
                    0.9614999890327454,
                    0.9520000219345093,
                    0.9524999856948853,
                    0.9539999961853027,
                    0.953000009059906,
                    0.9624999761581421,
                    0.9635000228881836,
                    0.9620000123977661,
                    0.9620000123977661,
                    0.9555000066757202,
                    0.9555000066757202,
                    0.9549999833106995,
                    0.9490000009536743,
                    0.9555000066757202,
                    0.9564999938011169,
                    0.9570000171661377,
                    0.9589999914169312,
                    0.9559999704360962,
                    0.9555000066757202,
                    0.9595000147819519,
                    0.9620000123977661,
                    0.9624999761581421,
                    0.9645000100135803,
                    0.9505000114440918,
                    0.9490000009536743,
                    0.9635000228881836,
                    0.9610000252723694,
                    0.9570000171661377,
                    0.9580000042915344,
                    0.9620000123977661,
                    0.9635000228881836,
                    0.9620000123977661,
                    0.9624999761581421,
                    0.9570000171661377,
                    0.9574999809265137,
                    0.9564999938011169,
                    0.9574999809265137,
                    0.9605000019073486,
                    0.9574999809265137,
                    0.9520000219345093,
                    0.953499972820282,
                    0.953000009059906,
                    0.9514999985694885,
                    0.9539999961853027,
                    0.9580000042915344,
                    0.9580000042915344,
                    0.9570000171661377,
                    0.9620000123977661,
                    0.9629999995231628,
                    0.965499997138977,
                    0.9620000123977661,
                    0.9639999866485596,
                    0.9599999785423279,
                    0.9639999866485596,
                    0.9624999761581421,
                    0.9725000262260437,
                    0.9735000133514404,
                    0.9240000247955322,
                    0.9194999933242798,
                    0.9629999995231628,
                    0.9624999761581421,
                    0.9645000100135803,
                    0.9649999737739563,
                    0.9629999995231628,
                    0.9614999890327454,
                    0.9624999761581421,
                    0.9629999995231628,
                    0.968999981880188,
                    0.9695000052452087,
                    0.9430000185966492,
                    0.9474999904632568,
                    0.9589999914169312,
                    0.9570000171661377,
                    0.9674999713897705,
                    0.9710000157356262,
                    0.9624999761581421,
                    0.9624999761581421,
                    0.9635000228881836,
                    0.9635000228881836,
                    0.9605000019073486,
                    0.9589999914169312,
                    0.9649999737739563,
                    0.9564999938011169,
                    0.9570000171661377,
                    0.9599999785423279,
                    0.9639999866485596,
                    0.9610000252723694,
                    0.9599999785423279,
                    0.9585000276565552,
                    0.9649999737739563,
                    0.965499997138977,
                    0.968999981880188,
                    0.9670000076293945,
                    0.9629999995231628,
                    0.9635000228881836,
                    0.9704999923706055,
                    0.9695000052452087,
                    0.9664999842643738,
                    0.965499997138977,
                    0.9670000076293945,
                    0.9679999947547913,
                    0.9635000228881836,
                    0.9645000100135803,
                    0.9605000019073486,
                    0.9595000147819519,
                    0.9605000019073486,
                    0.9509999752044678,
                    0.9710000157356262,
                    0.972000002861023,
                    0.9660000205039978,
                    0.9660000205039978,
                    0.9670000076293945,
                    0.9664999842643738,
                    0.9679999947547913,
                    0.9664999842643738,
                    0.968999981880188,
                    0.9700000286102295,
                    0.9674999713897705,
                    0.9645000100135803,
                    0.9624999761581421,
                    0.9645000100135803,
                    0.9595000147819519,
                    0.9599999785423279,
                    0.9695000052452087,
                    0.9674999713897705,
                    0.9670000076293945,
                    0.9624999761581421,
                    0.9610000252723694,
                    0.9495000243186951,
                    0.9725000262260437,
                    0.9714999794960022,
                    0.9574999809265137,
                    0.9610000252723694
                  ]
                }
              ],
              "layout": {
                "height": 400,
                "margin": {
                  "b": 40,
                  "l": 40,
                  "r": 40,
                  "t": 40
                },
                "template": {
                  "data": {
                    "bar": [
                      {
                        "error_x": {
                          "color": "#2a3f5f"
                        },
                        "error_y": {
                          "color": "#2a3f5f"
                        },
                        "marker": {
                          "line": {
                            "color": "#E5ECF6",
                            "width": 0.5
                          },
                          "pattern": {
                            "fillmode": "overlay",
                            "size": 10,
                            "solidity": 0.2
                          }
                        },
                        "type": "bar"
                      }
                    ],
                    "barpolar": [
                      {
                        "marker": {
                          "line": {
                            "color": "#E5ECF6",
                            "width": 0.5
                          },
                          "pattern": {
                            "fillmode": "overlay",
                            "size": 10,
                            "solidity": 0.2
                          }
                        },
                        "type": "barpolar"
                      }
                    ],
                    "carpet": [
                      {
                        "aaxis": {
                          "endlinecolor": "#2a3f5f",
                          "gridcolor": "white",
                          "linecolor": "white",
                          "minorgridcolor": "white",
                          "startlinecolor": "#2a3f5f"
                        },
                        "baxis": {
                          "endlinecolor": "#2a3f5f",
                          "gridcolor": "white",
                          "linecolor": "white",
                          "minorgridcolor": "white",
                          "startlinecolor": "#2a3f5f"
                        },
                        "type": "carpet"
                      }
                    ],
                    "choropleth": [
                      {
                        "colorbar": {
                          "outlinewidth": 0,
                          "ticks": ""
                        },
                        "type": "choropleth"
                      }
                    ],
                    "contour": [
                      {
                        "colorbar": {
                          "outlinewidth": 0,
                          "ticks": ""
                        },
                        "colorscale": [
                          [
                            0,
                            "#0d0887"
                          ],
                          [
                            0.1111111111111111,
                            "#46039f"
                          ],
                          [
                            0.2222222222222222,
                            "#7201a8"
                          ],
                          [
                            0.3333333333333333,
                            "#9c179e"
                          ],
                          [
                            0.4444444444444444,
                            "#bd3786"
                          ],
                          [
                            0.5555555555555556,
                            "#d8576b"
                          ],
                          [
                            0.6666666666666666,
                            "#ed7953"
                          ],
                          [
                            0.7777777777777778,
                            "#fb9f3a"
                          ],
                          [
                            0.8888888888888888,
                            "#fdca26"
                          ],
                          [
                            1,
                            "#f0f921"
                          ]
                        ],
                        "type": "contour"
                      }
                    ],
                    "contourcarpet": [
                      {
                        "colorbar": {
                          "outlinewidth": 0,
                          "ticks": ""
                        },
                        "type": "contourcarpet"
                      }
                    ],
                    "heatmap": [
                      {
                        "colorbar": {
                          "outlinewidth": 0,
                          "ticks": ""
                        },
                        "colorscale": [
                          [
                            0,
                            "#0d0887"
                          ],
                          [
                            0.1111111111111111,
                            "#46039f"
                          ],
                          [
                            0.2222222222222222,
                            "#7201a8"
                          ],
                          [
                            0.3333333333333333,
                            "#9c179e"
                          ],
                          [
                            0.4444444444444444,
                            "#bd3786"
                          ],
                          [
                            0.5555555555555556,
                            "#d8576b"
                          ],
                          [
                            0.6666666666666666,
                            "#ed7953"
                          ],
                          [
                            0.7777777777777778,
                            "#fb9f3a"
                          ],
                          [
                            0.8888888888888888,
                            "#fdca26"
                          ],
                          [
                            1,
                            "#f0f921"
                          ]
                        ],
                        "type": "heatmap"
                      }
                    ],
                    "histogram": [
                      {
                        "marker": {
                          "pattern": {
                            "fillmode": "overlay",
                            "size": 10,
                            "solidity": 0.2
                          }
                        },
                        "type": "histogram"
                      }
                    ],
                    "histogram2d": [
                      {
                        "colorbar": {
                          "outlinewidth": 0,
                          "ticks": ""
                        },
                        "colorscale": [
                          [
                            0,
                            "#0d0887"
                          ],
                          [
                            0.1111111111111111,
                            "#46039f"
                          ],
                          [
                            0.2222222222222222,
                            "#7201a8"
                          ],
                          [
                            0.3333333333333333,
                            "#9c179e"
                          ],
                          [
                            0.4444444444444444,
                            "#bd3786"
                          ],
                          [
                            0.5555555555555556,
                            "#d8576b"
                          ],
                          [
                            0.6666666666666666,
                            "#ed7953"
                          ],
                          [
                            0.7777777777777778,
                            "#fb9f3a"
                          ],
                          [
                            0.8888888888888888,
                            "#fdca26"
                          ],
                          [
                            1,
                            "#f0f921"
                          ]
                        ],
                        "type": "histogram2d"
                      }
                    ],
                    "histogram2dcontour": [
                      {
                        "colorbar": {
                          "outlinewidth": 0,
                          "ticks": ""
                        },
                        "colorscale": [
                          [
                            0,
                            "#0d0887"
                          ],
                          [
                            0.1111111111111111,
                            "#46039f"
                          ],
                          [
                            0.2222222222222222,
                            "#7201a8"
                          ],
                          [
                            0.3333333333333333,
                            "#9c179e"
                          ],
                          [
                            0.4444444444444444,
                            "#bd3786"
                          ],
                          [
                            0.5555555555555556,
                            "#d8576b"
                          ],
                          [
                            0.6666666666666666,
                            "#ed7953"
                          ],
                          [
                            0.7777777777777778,
                            "#fb9f3a"
                          ],
                          [
                            0.8888888888888888,
                            "#fdca26"
                          ],
                          [
                            1,
                            "#f0f921"
                          ]
                        ],
                        "type": "histogram2dcontour"
                      }
                    ],
                    "mesh3d": [
                      {
                        "colorbar": {
                          "outlinewidth": 0,
                          "ticks": ""
                        },
                        "type": "mesh3d"
                      }
                    ],
                    "parcoords": [
                      {
                        "line": {
                          "colorbar": {
                            "outlinewidth": 0,
                            "ticks": ""
                          }
                        },
                        "type": "parcoords"
                      }
                    ],
                    "pie": [
                      {
                        "automargin": true,
                        "type": "pie"
                      }
                    ],
                    "scatter": [
                      {
                        "fillpattern": {
                          "fillmode": "overlay",
                          "size": 10,
                          "solidity": 0.2
                        },
                        "type": "scatter"
                      }
                    ],
                    "scatter3d": [
                      {
                        "line": {
                          "colorbar": {
                            "outlinewidth": 0,
                            "ticks": ""
                          }
                        },
                        "marker": {
                          "colorbar": {
                            "outlinewidth": 0,
                            "ticks": ""
                          }
                        },
                        "type": "scatter3d"
                      }
                    ],
                    "scattercarpet": [
                      {
                        "marker": {
                          "colorbar": {
                            "outlinewidth": 0,
                            "ticks": ""
                          }
                        },
                        "type": "scattercarpet"
                      }
                    ],
                    "scattergeo": [
                      {
                        "marker": {
                          "colorbar": {
                            "outlinewidth": 0,
                            "ticks": ""
                          }
                        },
                        "type": "scattergeo"
                      }
                    ],
                    "scattergl": [
                      {
                        "marker": {
                          "colorbar": {
                            "outlinewidth": 0,
                            "ticks": ""
                          }
                        },
                        "type": "scattergl"
                      }
                    ],
                    "scattermap": [
                      {
                        "marker": {
                          "colorbar": {
                            "outlinewidth": 0,
                            "ticks": ""
                          }
                        },
                        "type": "scattermap"
                      }
                    ],
                    "scattermapbox": [
                      {
                        "marker": {
                          "colorbar": {
                            "outlinewidth": 0,
                            "ticks": ""
                          }
                        },
                        "type": "scattermapbox"
                      }
                    ],
                    "scatterpolar": [
                      {
                        "marker": {
                          "colorbar": {
                            "outlinewidth": 0,
                            "ticks": ""
                          }
                        },
                        "type": "scatterpolar"
                      }
                    ],
                    "scatterpolargl": [
                      {
                        "marker": {
                          "colorbar": {
                            "outlinewidth": 0,
                            "ticks": ""
                          }
                        },
                        "type": "scatterpolargl"
                      }
                    ],
                    "scatterternary": [
                      {
                        "marker": {
                          "colorbar": {
                            "outlinewidth": 0,
                            "ticks": ""
                          }
                        },
                        "type": "scatterternary"
                      }
                    ],
                    "surface": [
                      {
                        "colorbar": {
                          "outlinewidth": 0,
                          "ticks": ""
                        },
                        "colorscale": [
                          [
                            0,
                            "#0d0887"
                          ],
                          [
                            0.1111111111111111,
                            "#46039f"
                          ],
                          [
                            0.2222222222222222,
                            "#7201a8"
                          ],
                          [
                            0.3333333333333333,
                            "#9c179e"
                          ],
                          [
                            0.4444444444444444,
                            "#bd3786"
                          ],
                          [
                            0.5555555555555556,
                            "#d8576b"
                          ],
                          [
                            0.6666666666666666,
                            "#ed7953"
                          ],
                          [
                            0.7777777777777778,
                            "#fb9f3a"
                          ],
                          [
                            0.8888888888888888,
                            "#fdca26"
                          ],
                          [
                            1,
                            "#f0f921"
                          ]
                        ],
                        "type": "surface"
                      }
                    ],
                    "table": [
                      {
                        "cells": {
                          "fill": {
                            "color": "#EBF0F8"
                          },
                          "line": {
                            "color": "white"
                          }
                        },
                        "header": {
                          "fill": {
                            "color": "#C8D4E3"
                          },
                          "line": {
                            "color": "white"
                          }
                        },
                        "type": "table"
                      }
                    ]
                  },
                  "layout": {
                    "annotationdefaults": {
                      "arrowcolor": "#2a3f5f",
                      "arrowhead": 0,
                      "arrowwidth": 1
                    },
                    "autotypenumbers": "strict",
                    "coloraxis": {
                      "colorbar": {
                        "outlinewidth": 0,
                        "ticks": ""
                      }
                    },
                    "colorscale": {
                      "diverging": [
                        [
                          0,
                          "#8e0152"
                        ],
                        [
                          0.1,
                          "#c51b7d"
                        ],
                        [
                          0.2,
                          "#de77ae"
                        ],
                        [
                          0.3,
                          "#f1b6da"
                        ],
                        [
                          0.4,
                          "#fde0ef"
                        ],
                        [
                          0.5,
                          "#f7f7f7"
                        ],
                        [
                          0.6,
                          "#e6f5d0"
                        ],
                        [
                          0.7,
                          "#b8e186"
                        ],
                        [
                          0.8,
                          "#7fbc41"
                        ],
                        [
                          0.9,
                          "#4d9221"
                        ],
                        [
                          1,
                          "#276419"
                        ]
                      ],
                      "sequential": [
                        [
                          0,
                          "#0d0887"
                        ],
                        [
                          0.1111111111111111,
                          "#46039f"
                        ],
                        [
                          0.2222222222222222,
                          "#7201a8"
                        ],
                        [
                          0.3333333333333333,
                          "#9c179e"
                        ],
                        [
                          0.4444444444444444,
                          "#bd3786"
                        ],
                        [
                          0.5555555555555556,
                          "#d8576b"
                        ],
                        [
                          0.6666666666666666,
                          "#ed7953"
                        ],
                        [
                          0.7777777777777778,
                          "#fb9f3a"
                        ],
                        [
                          0.8888888888888888,
                          "#fdca26"
                        ],
                        [
                          1,
                          "#f0f921"
                        ]
                      ],
                      "sequentialminus": [
                        [
                          0,
                          "#0d0887"
                        ],
                        [
                          0.1111111111111111,
                          "#46039f"
                        ],
                        [
                          0.2222222222222222,
                          "#7201a8"
                        ],
                        [
                          0.3333333333333333,
                          "#9c179e"
                        ],
                        [
                          0.4444444444444444,
                          "#bd3786"
                        ],
                        [
                          0.5555555555555556,
                          "#d8576b"
                        ],
                        [
                          0.6666666666666666,
                          "#ed7953"
                        ],
                        [
                          0.7777777777777778,
                          "#fb9f3a"
                        ],
                        [
                          0.8888888888888888,
                          "#fdca26"
                        ],
                        [
                          1,
                          "#f0f921"
                        ]
                      ]
                    },
                    "colorway": [
                      "#636efa",
                      "#EF553B",
                      "#00cc96",
                      "#ab63fa",
                      "#FFA15A",
                      "#19d3f3",
                      "#FF6692",
                      "#B6E880",
                      "#FF97FF",
                      "#FECB52"
                    ],
                    "font": {
                      "color": "#2a3f5f"
                    },
                    "geo": {
                      "bgcolor": "white",
                      "lakecolor": "white",
                      "landcolor": "#E5ECF6",
                      "showlakes": true,
                      "showland": true,
                      "subunitcolor": "white"
                    },
                    "hoverlabel": {
                      "align": "left"
                    },
                    "hovermode": "closest",
                    "mapbox": {
                      "style": "light"
                    },
                    "paper_bgcolor": "white",
                    "plot_bgcolor": "#E5ECF6",
                    "polar": {
                      "angularaxis": {
                        "gridcolor": "white",
                        "linecolor": "white",
                        "ticks": ""
                      },
                      "bgcolor": "#E5ECF6",
                      "radialaxis": {
                        "gridcolor": "white",
                        "linecolor": "white",
                        "ticks": ""
                      }
                    },
                    "scene": {
                      "xaxis": {
                        "backgroundcolor": "#E5ECF6",
                        "gridcolor": "white",
                        "gridwidth": 2,
                        "linecolor": "white",
                        "showbackground": true,
                        "ticks": "",
                        "zerolinecolor": "white"
                      },
                      "yaxis": {
                        "backgroundcolor": "#E5ECF6",
                        "gridcolor": "white",
                        "gridwidth": 2,
                        "linecolor": "white",
                        "showbackground": true,
                        "ticks": "",
                        "zerolinecolor": "white"
                      },
                      "zaxis": {
                        "backgroundcolor": "#E5ECF6",
                        "gridcolor": "white",
                        "gridwidth": 2,
                        "linecolor": "white",
                        "showbackground": true,
                        "ticks": "",
                        "zerolinecolor": "white"
                      }
                    },
                    "shapedefaults": {
                      "line": {
                        "color": "#2a3f5f"
                      }
                    },
                    "ternary": {
                      "aaxis": {
                        "gridcolor": "white",
                        "linecolor": "white",
                        "ticks": ""
                      },
                      "baxis": {
                        "gridcolor": "white",
                        "linecolor": "white",
                        "ticks": ""
                      },
                      "bgcolor": "#E5ECF6",
                      "caxis": {
                        "gridcolor": "white",
                        "linecolor": "white",
                        "ticks": ""
                      }
                    },
                    "title": {
                      "x": 0.05
                    },
                    "xaxis": {
                      "automargin": true,
                      "gridcolor": "white",
                      "linecolor": "white",
                      "ticks": "",
                      "title": {
                        "standoff": 15
                      },
                      "zerolinecolor": "white",
                      "zerolinewidth": 2
                    },
                    "yaxis": {
                      "automargin": true,
                      "gridcolor": "white",
                      "linecolor": "white",
                      "ticks": "",
                      "title": {
                        "standoff": 15
                      },
                      "zerolinecolor": "white",
                      "zerolinewidth": 2
                    }
                  }
                },
                "title": {
                  "text": "Accuracy Over Epochs (Interactive)"
                },
                "xaxis": {
                  "rangeslider": {
                    "visible": true
                  },
                  "title": {
                    "text": "Epoch"
                  }
                },
                "yaxis": {
                  "range": [
                    0,
                    1
                  ],
                  "title": {
                    "text": "Accuracy"
                  }
                }
              }
            }
          },
          "metadata": {},
          "output_type": "display_data"
        },
        {
          "name": "stdout",
          "output_type": "stream",
          "text": [
            "\u001b[1m281/281\u001b[0m \u001b[32m━━━━━━━━━━━━━━━━━━━━\u001b[0m\u001b[37m\u001b[0m \u001b[1m0s\u001b[0m 626us/step - accuracy: 0.8906 - loss: 1.2705 - val_accuracy: 0.9610 - val_loss: 1.2669\n"
          ]
        }
      ],
      "source": [
        "target_accuracy = 0.975\n",
        "history = model.fit(\n",
        "    train_gen,\n",
        "    epochs=200, # количество эпох\n",
        "    batch_size=128,\n",
        "    validation_data=(X_val, y_val),\n",
        "    steps_per_epoch=len(X_train) // 64,\n",
        "    callbacks=[\n",
        "        EarlyStoppingByAccuracy(target=target_accuracy),\n",
        "        LiveAccuracyPlot()\n",
        "    ],\n",
        "    verbose=1\n",
        ") # обучение"
      ]
    },
    {
      "cell_type": "code",
      "execution_count": null,
      "id": "bdd113d7",
      "metadata": {
        "id": "bdd113d7",
        "outputId": "0e7f11ad-e47d-43d2-f211-5af4a8edb670"
      },
      "outputs": [
        {
          "name": "stdout",
          "output_type": "stream",
          "text": [
            "\u001b[1m1563/1563\u001b[0m \u001b[32m━━━━━━━━━━━━━━━━━━━━\u001b[0m\u001b[37m\u001b[0m \u001b[1m8s\u001b[0m 5ms/step\n"
          ]
        }
      ],
      "source": [
        "# предсказание\n",
        "preds = model.predict(images_sub)\n",
        "classes = np.argmax(preds, axis=1)\n",
        "\n",
        "# сохранение результатов\n",
        "submission = pd.DataFrame({'Id': np.arange(len(classes)), 'Category': classes})\n",
        "submission.to_csv('submission.csv', index=False)"
      ]
    }
  ],
  "metadata": {
    "kernelspec": {
      "display_name": "tf-mac",
      "language": "python",
      "name": "python3"
    },
    "language_info": {
      "codemirror_mode": {
        "name": "ipython",
        "version": 3
      },
      "file_extension": ".py",
      "mimetype": "text/x-python",
      "name": "python",
      "nbconvert_exporter": "python",
      "pygments_lexer": "ipython3",
      "version": "3.11.11"
    },
    "colab": {
      "provenance": [],
      "include_colab_link": true
    }
  },
  "nbformat": 4,
  "nbformat_minor": 5
}